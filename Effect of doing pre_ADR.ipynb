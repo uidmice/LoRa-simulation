{
 "cells": [
  {
   "cell_type": "code",
   "execution_count": null,
   "metadata": {},
   "outputs": [],
   "source": [
    "import numpy as np\n",
    "import matplotlib.pyplot as plt\n",
    "\n",
    "from Simulation import Simulation\n",
    "from framework.utils import Location, PerformanceAnimation, GreedyPolicy, PER\n",
    "from config import *\n",
    "\n",
    "DEBUG = False\n",
    "\n",
    "total_time = 20 * MINUTE_TO_MS\n",
    "step_times = range(6000, 20001, 1000)  # ms\n",
    "offsets = [3000]\n",
    "repeat = 1\n",
    "node_locations = []\n",
    "gateway_location = [Location(-1000, 1000), Location(1000, -1000)]\n",
    "for i in range(-CORD + 5, CORD + 1, 7):\n",
    "    for j in range(-CORD + 5, CORD + 1, 7):\n",
    "        x = j * GRID\n",
    "        y = i * GRID\n",
    "        node_locations.append(Location(x, y))\n",
    "\n",
    "        \n",
    "         # STATE_KEYWORDS = [\"location\", \"failure_rate\", \"last_update\", \"current_sensing\",\n",
    "    #                   \"num_unique_packets_received\", \"num_total_packets_sent\", \"total_transmit_time\",\n",
    "    #                   \"total_receive_time\", \"total_energy_usage\", \"last_packet_success\"]\n",
    "\n",
    "result_without_pre_adr = np.zeros((len(step_times), len(offsets)))\n",
    "result_with_pre_adr = np.zeros((len(step_times), len(offsets)))\n",
    "for i in range(repeat):\n",
    "    for j, step_time in enumerate(step_times):\n",
    "        for k, offset in enumerate(offsets):\n",
    "            num_steps = int(total_time/step_time)\n",
    "            reward = np.zeros((num_steps, 2))\n",
    "            iter_PER = np.zeros((num_steps, 2))\n",
    "            \n",
    "            simulation = Simulation(node_locations, gateway_location, step_time, offset = offset)\n",
    "            policy = GreedyPolicy(1000, node_locations)\n",
    "\n",
    "            for step in range(num_steps):\n",
    "                action = policy.action_map(simulation)\n",
    "                reward[step, 0], iter_PER[step, 0] = simulation.step(action)\n",
    "                policy.update(simulation, action)\n",
    "\n",
    "            result_without_pre_adr[j, k] = PER(simulation)\n",
    "            \n",
    "            simulation.reset()\n",
    "            simulation.pre_adr(500, True)\n",
    "            simulation.reset()\n",
    "            policy = GreedyPolicy(1000, node_locations)\n",
    "\n",
    "            for step in range(num_steps):\n",
    "                action = policy.action_map(simulation)\n",
    "                reward[step, 1], iter_PER[step, 1] = simulation.step(action)\n",
    "                policy.update(simulation, action)\n",
    "\n",
    "            result_with_pre_adr[j, k] = PER(simulation)\n",
    "            if i == 0:\n",
    "                fig, axs = plt.subplots(2,figsize=(5,5), sharex=True)\n",
    "                axs[0].set_title(\"step_time_%d_offset_%d_greedy_policy\" %(step_time, offset))\n",
    "                axs[0].plot(reward)\n",
    "                axs[0].set_xlabel(\"Iterations\")\n",
    "                axs[0].set_ylabel(\"Reward\")\n",
    "                axs[1].plot(iter_PER)\n",
    "                axs[1].set_ylabel(\"PER\")\n",
    "                plt.legend(['without ADR', \"with ADR\"], loc='lower right')\n",
    "                plt.tight_layout()\n",
    "                plt.show()\n"
   ]
  },
  {
   "cell_type": "code",
   "execution_count": 1,
   "metadata": {},
   "outputs": [
    {
     "ename": "NameError",
     "evalue": "name 'result' is not defined",
     "output_type": "error",
     "traceback": [
      "\u001b[0;31m---------------------------------------------------------------------------\u001b[0m",
      "\u001b[0;31mNameError\u001b[0m                                 Traceback (most recent call last)",
      "\u001b[0;32m<ipython-input-1-ec4754560dbb>\u001b[0m in \u001b[0;36m<module>\u001b[0;34m\u001b[0m\n\u001b[0;32m----> 1\u001b[0;31m \u001b[0mresult1\u001b[0m \u001b[0;34m=\u001b[0m \u001b[0mresult\u001b[0m\u001b[0;34m[\u001b[0m\u001b[0;34m:\u001b[0m\u001b[0;34m,\u001b[0m\u001b[0;34m:\u001b[0m\u001b[0;34m,\u001b[0m\u001b[0;36m0\u001b[0m\u001b[0;34m]\u001b[0m\u001b[0;34m\u001b[0m\u001b[0;34m\u001b[0m\u001b[0m\n\u001b[0m\u001b[1;32m      2\u001b[0m \u001b[0;34m\u001b[0m\u001b[0m\n\u001b[1;32m      3\u001b[0m \u001b[0mplt\u001b[0m\u001b[0;34m.\u001b[0m\u001b[0mplot\u001b[0m\u001b[0;34m(\u001b[0m\u001b[0mnp\u001b[0m\u001b[0;34m.\u001b[0m\u001b[0marray\u001b[0m\u001b[0;34m(\u001b[0m\u001b[0mstep_times\u001b[0m\u001b[0;34m)\u001b[0m\u001b[0;34m/\u001b[0m\u001b[0;36m1000\u001b[0m\u001b[0;34m,\u001b[0m \u001b[0mresult1\u001b[0m\u001b[0;34m)\u001b[0m\u001b[0;34m\u001b[0m\u001b[0;34m\u001b[0m\u001b[0m\n\u001b[1;32m      4\u001b[0m \u001b[0mplt\u001b[0m\u001b[0;34m.\u001b[0m\u001b[0mlegend\u001b[0m\u001b[0;34m(\u001b[0m\u001b[0moffsets\u001b[0m\u001b[0;34m)\u001b[0m\u001b[0;34m\u001b[0m\u001b[0;34m\u001b[0m\u001b[0m\n\u001b[1;32m      5\u001b[0m \u001b[0mplt\u001b[0m\u001b[0;34m.\u001b[0m\u001b[0mtitle\u001b[0m\u001b[0;34m(\u001b[0m\u001b[0;34m\"PER\"\u001b[0m\u001b[0;34m)\u001b[0m\u001b[0;34m\u001b[0m\u001b[0;34m\u001b[0m\u001b[0m\n",
      "\u001b[0;31mNameError\u001b[0m: name 'result' is not defined"
     ]
    }
   ],
   "source": [
    "result1 = result[:,:,0]\n",
    "\n",
    "plt.plot(np.array(step_times)/1000, result1)\n",
    "plt.legend(offsets)\n",
    "plt.title(\"PER\")\n",
    "plt.ylabel(\"PER\")\n",
    "plt.xlabel(\"Time per round/s\")\n",
    "plt.show()"
   ]
  },
  {
   "cell_type": "raw",
   "metadata": {},
   "source": [
    "\n"
   ]
  }
 ],
 "metadata": {
  "kernelspec": {
   "display_name": "Python 3",
   "language": "python",
   "name": "python3"
  },
  "language_info": {
   "codemirror_mode": {
    "name": "ipython",
    "version": 3
   },
   "file_extension": ".py",
   "mimetype": "text/x-python",
   "name": "python",
   "nbconvert_exporter": "python",
   "pygments_lexer": "ipython3",
   "version": "3.8.3"
  }
 },
 "nbformat": 4,
 "nbformat_minor": 4
}
