{
 "cells": [
  {
   "cell_type": "code",
   "execution_count": null,
   "metadata": {},
   "outputs": [],
   "source": [
    "from framework.utils import Location\n",
    "from config import *\n",
    "from framework.Environment import TempEnvironment\n",
    "import matplotlib.pyplot as plt\n",
    "import simpy\n",
    "\n",
    "MAX_DISTANCE = 2000\n",
    "sim_env = simpy.Environment()\n",
    "environment = TempEnvironment(sim_env,  Location(MAX_DISTANCE, -MAX_DISTANCE), Location(-MAX_DISTANCE, MAX_DISTANCE), 296.15, dx = 50)\n",
    "\n",
    "plt.ion()\n",
    "fig = plt.figure(figsize=(10,10))\n",
    "ax = fig.add_subplot(1,1,1)\n",
    "im = ax.imshow(environment.T, alpha=.5, interpolation='bicubic', cmap='RdYlGn_r', origin='lower'\n",
    ",extent=[-MAX_DISTANCE, MAX_DISTANCE, - MAX_DISTANCE, MAX_DISTANCE]\n",
    ")\n",
    "ax.axes.xaxis.set_visible(False)\n",
    "ax.axes.yaxis.set_visible(False)\n",
    "plt.colorbar(im)\n",
    "im.set_clim(353, 293)\n",
    "plt.axis('off')\n",
    "plt.draw()\n",
    "plt.show()\n",
    "contour_ax = fig.add_axes(ax.get_position(), frameon=False)\n",
    "contour_ax.set_xlim([-MAX_DISTANCE, MAX_DISTANCE])\n",
    "contour_ax.set_ylim([-MAX_DISTANCE, MAX_DISTANCE])\n",
    "sim_env.process(environment.update( update_rate=60, im = im, ax = contour_ax))\n",
    "sim_env.run(5*MINUTE_TO_MS)"
   ]
  }
 ],
 "metadata": {
  "kernelspec": {
   "display_name": "Python 3",
   "language": "python",
   "name": "python3"
  },
  "language_info": {
   "codemirror_mode": {
    "name": "ipython",
    "version": 3
   },
   "file_extension": ".py",
   "mimetype": "text/x-python",
   "name": "python",
   "nbconvert_exporter": "python",
   "pygments_lexer": "ipython3",
   "version": "3.8.3"
  }
 },
 "nbformat": 4,
 "nbformat_minor": 4
}
