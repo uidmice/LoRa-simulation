{
 "cells": [
  {
   "cell_type": "code",
   "execution_count": 18,
   "metadata": {},
   "outputs": [
    {
     "ename": "SyntaxError",
     "evalue": "'yield' outside function (<ipython-input-18-77bc6ef65622>, line 15)",
     "output_type": "error",
     "traceback": [
      "\u001b[0;36m  File \u001b[0;32m\"<ipython-input-18-77bc6ef65622>\"\u001b[0;36m, line \u001b[0;32m15\u001b[0m\n\u001b[0;31m    ret = yield env.process(sub(env, i))\u001b[0m\n\u001b[0m          ^\u001b[0m\n\u001b[0;31mSyntaxError\u001b[0m\u001b[0;31m:\u001b[0m 'yield' outside function\n"
     ]
    }
   ],
   "source": [
    "from Simulation import Simulation\n",
    "from framework.TransmissionInterface import Location\n",
    "from config import *\n",
    "import numpy as np\n",
    "import simpy\n",
    "\n",
    "env = simpy.Environment()\n",
    "\n",
    "def sub(env, i):\n",
    "    yield env.timeout(i)\n",
    "    print(str(env.now), \": \", i)\n",
    "    return i\n",
    "\n",
    "def parent(env):\n",
    "    for i in range(12):\n",
    "        ret = yield env.process(sub(env, i))\n",
    "    return ret\n",
    "\n",
    "env.run(env.process(parent(env)))"
   ]
  },
  {
   "cell_type": "code",
   "execution_count": 10,
   "metadata": {},
   "outputs": [
    {
     "name": "stdout",
     "output_type": "stream",
     "text": [
      "now=1, value=42\n"
     ]
    }
   ],
   "source": [
    "import simpy\n",
    "def example(env):\n",
    "    value = yield env.timeout(1, value=42)\n",
    "    print('now=%d, value=%d' % (env.now, value))\n",
    "env = simpy.Environment()\n",
    "p = env.process(example(env))\n",
    "env.run()"
   ]
  },
  {
   "cell_type": "code",
   "execution_count": null,
   "metadata": {},
   "outputs": [],
   "source": []
  }
 ],
 "metadata": {
  "kernelspec": {
   "display_name": "Python 3",
   "language": "python",
   "name": "python3"
  },
  "language_info": {
   "codemirror_mode": {
    "name": "ipython",
    "version": 3
   },
   "file_extension": ".py",
   "mimetype": "text/x-python",
   "name": "python",
   "nbconvert_exporter": "python",
   "pygments_lexer": "ipython3",
   "version": "3.8.3"
  }
 },
 "nbformat": 4,
 "nbformat_minor": 4
}
